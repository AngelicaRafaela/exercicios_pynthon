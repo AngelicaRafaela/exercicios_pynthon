{
  "cells": [
    {
      "cell_type": "markdown",
      "metadata": {
        "id": "view-in-github",
        "colab_type": "text"
      },
      "source": [
        "<a href=\"https://colab.research.google.com/github/AngelicaRafaela/exercicios_pynthon/blob/main/aula01_exercicios.ipynb\" target=\"_parent\"><img src=\"https://colab.research.google.com/assets/colab-badge.svg\" alt=\"Open In Colab\"/></a>"
      ]
    },
    {
      "cell_type": "markdown",
      "metadata": {
        "id": "Q12vT2LkmdDS"
      },
      "source": [
        "### Exercício 1\n",
        "Utilizando o built-in method input(), crie um programa que receba a altura e o peso de uma pessoa e imprima na tela o IMC da mesma."
      ]
    },
    {
      "cell_type": "code",
      "execution_count": null,
      "metadata": {
        "id": "LSkuhJYTmdDU",
        "colab": {
          "base_uri": "https://localhost:8080/"
        },
        "outputId": "4ede306d-19a6-444e-9598-eee9f8a1fa6d"
      },
      "outputs": [
        {
          "output_type": "stream",
          "name": "stdout",
          "text": [
            "Insira sua altura: 1.75\n",
            "Insira seu peso em kg: 70\n",
            "O seu IMC é: 22.857142857142858\n",
            "Seu peso está saudável.\n"
          ]
        }
      ],
      "source": [
        "# Pede para o usuário inserir altura e peso\n",
        "altura = float(input(\"Insira sua altura: \"))\n",
        "peso = float(input(\"Insira seu peso em kg: \"))\n",
        "\n",
        "# Calcula o IMC\n",
        "imc = peso / (altura ** 2)\n",
        "\n",
        "# Resultado do IMC\n",
        "print(\"O seu IMC é:\", imc)\n",
        "\n",
        "# Classifica o IMC\n",
        "if imc < 18.5:\n",
        "    print(\"Você está abaixo do peso.\")\n",
        "elif 18.5 <= imc < 24.9:\n",
        "    print(\"Seu peso está saudável.\")\n",
        "elif 25 <= imc < 29.9:\n",
        "    print(\"Você está com sobrepeso.\")\n",
        "elif 30 <= imc < 34.9:\n",
        "    print(\"Você está com obesidade grau 1.\")\n",
        "elif 35 <= imc < 39.9:\n",
        "    print(\"Você está com obesidade grau 2.\")\n",
        "else:\n",
        "    print(\"Você está com obesidade grau 3 (obesidade mórbida).\")\n"
      ]
    },
    {
      "cell_type": "markdown",
      "metadata": {
        "id": "LxeNovCUmdDU"
      },
      "source": [
        "### Exercício 2\n",
        "Escreva um programa que pergunte o nome completo do usuário e cumprimente o mesmo pelo primeiro nome."
      ]
    },
    {
      "cell_type": "code",
      "execution_count": null,
      "metadata": {
        "id": "mYp3HVB8mdDU",
        "colab": {
          "base_uri": "https://localhost:8080/"
        },
        "outputId": "40993c5c-9f64-49f2-c7d5-a0b9c8ca6c6f"
      },
      "outputs": [
        {
          "output_type": "stream",
          "name": "stdout",
          "text": [
            "Digite seu nome completo: angélica rafaela da silva\n",
            "Olá, angélica! Bem-vindo!\n"
          ]
        }
      ],
      "source": [
        "nome_completo = input(\"Digite seu nome completo: \")\n",
        "\n",
        "# Divide o nome completo em palavras\n",
        "palavras = nome_completo.split()\n",
        "\n",
        "# Verifica o nome completo\n",
        "if len(palavras) > 0:\n",
        "    # Pega o primeiro nome\n",
        "    pri_nome = palavras[0]\n",
        "\n",
        "    print(\"Olá, \" + pri_nome + \"! Bem-vindo!\")\n",
        "else:\n",
        "    print(\"Você não inseriu um nome válido.\")"
      ]
    },
    {
      "cell_type": "markdown",
      "metadata": {
        "id": "26g_nNrCmdDV"
      },
      "source": [
        "### Exercício 3\n",
        "Desenho um código que extraia o domínio de um e-mail informado."
      ]
    },
    {
      "cell_type": "code",
      "execution_count": null,
      "metadata": {
        "id": "hlOlBkZ4mdDV",
        "colab": {
          "base_uri": "https://localhost:8080/"
        },
        "outputId": "c8a64386-94a9-49d8-81e5-04e671f1a137"
      },
      "outputs": [
        {
          "output_type": "stream",
          "name": "stdout",
          "text": [
            "Digite seu endereço de e-mail: exemplo@gmail.com\n",
            "O domínio do e-mail é: gmail.com\n"
          ]
        }
      ],
      "source": [
        "# Solicita o e-mail\n",
        "email = input(\"Digite seu endereço de e-mail: \")\n",
        "\n",
        "# Divide o e-mail separando o antes do @ e depois\n",
        "parts = email.split(\"@\")\n",
        "\n",
        "# Verifica se o e-mail foi dividido corretamente\n",
        "if len(parts) == 2:\n",
        "    dominio = parts[1]\n",
        "    print(\"O domínio do e-mail é:\", dominio)\n",
        "else:\n",
        "    print(\"Endereço de e-mail inválido. Insira novamente, seguindo o modelo: exemplo@email.com\")\n"
      ]
    },
    {
      "cell_type": "markdown",
      "metadata": {
        "id": "_MFc8WyJmdDV"
      },
      "source": [
        "### Exercício 4\n",
        "Faça um programa para uma loja de tintas. A pessoa informa a área em m2 que deseja pintar, e o script calculará a quantidade de latas de tinta que a pessoa deve comprar e o valor. Considere que cada litro de tinta pinta 3m2, que cada lata contém 18L e que custa R$ 80."
      ]
    },
    {
      "cell_type": "code",
      "execution_count": null,
      "metadata": {
        "id": "teEk5OQpmdDV",
        "colab": {
          "base_uri": "https://localhost:8080/"
        },
        "outputId": "aa70b2f1-42da-410b-c93f-0c65c47c7f20"
      },
      "outputs": [
        {
          "output_type": "stream",
          "name": "stdout",
          "text": [
            "Digite a área em metros quadrados a ser pintada: 40\n",
            "Você precisará de 1 latas de tinta.\n",
            "O custo total será de R$ 90\n"
          ]
        }
      ],
      "source": [
        "# Define a taxa de cobertura de tinta (em m² por litro)\n",
        "taxa_cobertura = 2\n",
        "\n",
        "# Define a capacidade de cada lata de tinta (em litros)\n",
        "capacidade_lata = 18\n",
        "\n",
        "# Define o preço de cada lata de tinta (em reais)\n",
        "preco_lata = 90\n",
        "\n",
        "# Solicita a área em metros quadrados a ser pintada\n",
        "area_a_pintar = float(input(\"Digite a área em metros quadrados a ser pintada: \"))\n",
        "\n",
        "# Calcula a quantidade de litros de tinta necessários\n",
        "litros_necessarios = area_a_pintar / taxa_cobertura\n",
        "\n",
        "# Calcula a quantidade de latas de tinta necessárias\n",
        "latas_necessarias = int(litros_necessarios / capacidade_lata)\n",
        "\n",
        "# Calcula o custo total\n",
        "custo_total = latas_necessarias * preco_lata\n",
        "\n",
        "# Imprime os resultados\n",
        "print(\"Você precisará de\", latas_necessarias, \"latas de tinta.\")\n",
        "print(\"O custo total será de R$\", custo_total)\n"
      ]
    },
    {
      "cell_type": "markdown",
      "metadata": {
        "id": "Y_7c0iQUmdDV"
      },
      "source": [
        "### Exercício 5\n",
        "Faça um Programa que pergunte quanto você ganha por hora e o número de horas trabalhadas no mês. Calcule e mostre o total do seu salário no referido mês, sabendo-se que são descontados 11% para o Imposto de Renda, 8% para o INSS e 5% para o sindicato, faça um programa que nos dê:\n",
        "1. Salário bruto.\n",
        "2. Quanto pagou ao INSS.\n",
        "3. Quanto pagou ao sindicato.\n",
        "4. O salário líquido."
      ]
    },
    {
      "cell_type": "code",
      "execution_count": null,
      "metadata": {
        "id": "nX26mthSmdDV",
        "colab": {
          "base_uri": "https://localhost:8080/"
        },
        "outputId": "f8460e24-c936-4c1b-d481-905ac3899bba"
      },
      "outputs": [
        {
          "output_type": "stream",
          "name": "stdout",
          "text": [
            "Digite o valor ganho por hora: 5\n",
            "Digite o número de horas trabalhadas no mês: 120\n",
            "Salário Bruto: R$ 600.0\n",
            "Desconto do Imposto de Renda (11%): R$ 66.0\n",
            "Desconto do INSS (8%): R$ 48.0\n",
            "Desconto do Sindicato (5%): R$ 30.0\n",
            "Salário Líquido: R$ 456.0\n"
          ]
        }
      ],
      "source": [
        "# Solicita o valor ganho por hora e o número de horas trabalhadas\n",
        "valor_por_hora = float(input(\"Digite o valor ganho por hora: \"))\n",
        "horas_trabalhadas = float(input(\"Digite o número de horas trabalhadas no mês: \"))\n",
        "\n",
        "# Calcula o salário bruto\n",
        "salario_bruto = valor_por_hora * horas_trabalhadas\n",
        "\n",
        "# Calcula o valor do desconto para o Imposto de Renda (11%)\n",
        "imposto_de_renda = 0.11 * salario_bruto\n",
        "\n",
        "# Calcula o valor do desconto para o INSS (8%)\n",
        "inss = 0.08 * salario_bruto\n",
        "\n",
        "# Calcula o valor do desconto para o sindicato (5%)\n",
        "sindicato = 0.05 * salario_bruto\n",
        "\n",
        "# Calcula o salário líquido (salário bruto - descontos)\n",
        "salario_liquido = salario_bruto - (imposto_de_renda + inss + sindicato)\n",
        "\n",
        "# Imprime os resultados\n",
        "print(\"Salário Bruto: R$\", salario_bruto)\n",
        "print(\"Desconto do Imposto de Renda (11%): R$\", imposto_de_renda)\n",
        "print(\"Desconto do INSS (8%): R$\", inss)\n",
        "print(\"Desconto do Sindicato (5%): R$\", sindicato)\n",
        "print(\"Salário Líquido: R$\", salario_liquido)\n"
      ]
    },
    {
      "cell_type": "markdown",
      "metadata": {
        "id": "zUtebjLwmdDV"
      },
      "source": [
        "### Exercício 6\n",
        "Faça um programa para a leitura de duas notas parciais de um aluno. O programa deve calcular a média alcançada por aluno e apresentar:\n",
        "- A mensagem \"Aprovado\", se a média alcançada for maior ou igual a 7;\n",
        "- A mensagem \"Reprovado\", se a média for menor do que 7;\n",
        "- A mensagem \"Aprovado com Distinção\", se a média for igual a 10."
      ]
    },
    {
      "cell_type": "code",
      "execution_count": null,
      "metadata": {
        "id": "Tbb4RmDZmdDV",
        "colab": {
          "base_uri": "https://localhost:8080/"
        },
        "outputId": "9f4e16bc-8dee-4921-caeb-e1a1d51eb0ea"
      },
      "outputs": [
        {
          "output_type": "stream",
          "name": "stdout",
          "text": [
            "Digite a primeira nota: 5\n",
            "Digite a segunda nota: 4\n",
            "Reprovado\n"
          ]
        }
      ],
      "source": [
        "# Solicita as duas notas parciais do aluno\n",
        "nota1 = float(input(\"Digite a primeira nota: \"))\n",
        "nota2 = float(input(\"Digite a segunda nota: \"))\n",
        "\n",
        "# Calcula a média das notas\n",
        "media = (nota1 + nota2) / 2\n",
        "\n",
        "# Verifica as condições e imprime a mensagem apropriada\n",
        "if media == 10:\n",
        "    print(\"Aprovado com Distinção\")\n",
        "elif media >= 7:\n",
        "    print(\"Aprovado\")\n",
        "else:\n",
        "    print(\"Reprovado\")\n"
      ]
    },
    {
      "cell_type": "markdown",
      "metadata": {
        "id": "qw513WBumdDW"
      },
      "source": [
        "### Exercício 7\n",
        "Escreva um script que leia três números e mostre o maior e o menor deles."
      ]
    },
    {
      "cell_type": "code",
      "execution_count": null,
      "metadata": {
        "id": "moa3Quj_mdDW",
        "colab": {
          "base_uri": "https://localhost:8080/"
        },
        "outputId": "118a6971-5152-4fa3-9d09-0581f05b1189"
      },
      "outputs": [
        {
          "output_type": "stream",
          "name": "stdout",
          "text": [
            "Digite o primeiro número: 10\n",
            "Digite o segundo número: 2\n",
            "Digite o terceiro número: 22\n",
            "O maior número é: 22\n",
            "O menor número é: 2\n"
          ]
        }
      ],
      "source": [
        "# Solicita os três números ao usuário\n",
        "numero1 = int(input(\"Digite o primeiro número: \"))\n",
        "numero2 = int(input(\"Digite o segundo número: \"))\n",
        "numero3 = int(input(\"Digite o terceiro número: \"))\n",
        "\n",
        "# Inicializa as variáveis para o maior e o menor número com o primeiro número inserido\n",
        "maior_numero = numero1\n",
        "menor_numero = numero1\n",
        "\n",
        "# Verifica se o segundo número é maior ou menor do que os valores atuais\n",
        "if numero2 > maior_numero:\n",
        "    maior_numero = numero2\n",
        "elif numero2 < menor_numero:\n",
        "    menor_numero = numero2\n",
        "\n",
        "# Verifica se o terceiro número é maior ou menor do que os valores atuais\n",
        "if numero3 > maior_numero:\n",
        "    maior_numero = numero3\n",
        "elif numero3 < menor_numero:\n",
        "    menor_numero = numero3\n",
        "\n",
        "# Imprime o maior e o menor número\n",
        "print(\"O maior número é:\", maior_numero)\n",
        "print(\"O menor número é:\", menor_numero)\n"
      ]
    },
    {
      "cell_type": "markdown",
      "metadata": {
        "id": "TIBAeMHgmdDW"
      },
      "source": [
        "### Exercício 8\n",
        "Entre com um nome e imprima o nome na vertical em escada.\n",
        "\n",
        "F<br>\n",
        "FU<br>\n",
        "FUL<br>\n",
        "FULA<br>\n",
        "FULAN<br>\n",
        "FULANO<br>"
      ]
    },
    {
      "cell_type": "code",
      "execution_count": null,
      "metadata": {
        "id": "xtyV5jrlmdDW",
        "colab": {
          "base_uri": "https://localhost:8080/"
        },
        "outputId": "770a733f-0548-4f38-f300-875fc7bd43b4"
      },
      "outputs": [
        {
          "output_type": "stream",
          "name": "stdout",
          "text": [
            "Digite um nome: rakan\n",
            "r\n",
            "ra\n",
            "rak\n",
            "raka\n",
            "rakan\n"
          ]
        }
      ],
      "source": [
        "# Solicita o nome do usuário\n",
        "nome = input(\"Digite um nome: \")\n",
        "\n",
        "# Inicializa uma string vazia para a escada\n",
        "escada = \"\"\n",
        "\n",
        "# Loop para construir a escada\n",
        "for letra in nome:\n",
        "    escada += letra\n",
        "    print(escada)\n"
      ]
    },
    {
      "cell_type": "markdown",
      "metadata": {
        "id": "HIWZ2izmmdDW"
      },
      "source": [
        "### Exercício 9\n",
        "A série de Fibonacci é formada pela seqüência 1,1,2,3,5,8,13,21,34,55,... (o próximo termo, a partir do terceiro, é sempre gerado a partir do somatório dos últimos dois). Faça um programa capaz de gerar a série até o n−ésimo termo (onde o valor n deve ser inserido pelo usuário)."
      ]
    },
    {
      "cell_type": "code",
      "execution_count": null,
      "metadata": {
        "id": "ZVCpQk5WmdDW",
        "colab": {
          "base_uri": "https://localhost:8080/"
        },
        "outputId": "fa4a2d8d-28fe-420d-c372-5af131de3ffa"
      },
      "outputs": [
        {
          "output_type": "stream",
          "name": "stdout",
          "text": [
            "Digite o valor de n para a série de Fibonacci: 5\n",
            "Série de Fibonacci até o 5 º termo:\n",
            "1, 1, 2, 3, 5, "
          ]
        }
      ],
      "source": [
        "# Solicita o valor de n (número de termos)\n",
        "n = int(input(\"Digite o valor de n para a série de Fibonacci: \"))\n",
        "\n",
        "# Inicializa a lista com os dois primeiros termos\n",
        "fibonacci = [1, 1]\n",
        "\n",
        "# Calcula a série de Fibonacci até o n-ésimo termo\n",
        "while len(fibonacci) < n:\n",
        "    proximo_termo = fibonacci[-1] + fibonacci[-2]\n",
        "    fibonacci.append(proximo_termo)\n",
        "\n",
        "# Imprime a série de Fibonacci\n",
        "print(\"Série de Fibonacci até o\", n, \"º termo:\")\n",
        "for termo in fibonacci:\n",
        "    print(termo, end=\", \")\n"
      ]
    },
    {
      "cell_type": "markdown",
      "metadata": {
        "id": "Pz5N49hDmdDW"
      },
      "source": [
        "### Exercício 10\n",
        "Faça um programa que leia e valide as seguintes informações:\n",
        "- Nome: maior que 3 caracteres;\n",
        "- Idade: entre 0 e 150;\n",
        "- Salário: maior que zero;\n",
        "- Sexo: 'f' ou 'm';\n",
        "- Estado Civil: 's', 'c', 'v', 'd';"
      ]
    },
    {
      "cell_type": "code",
      "execution_count": null,
      "metadata": {
        "id": "59uI9Ai2mdDW",
        "colab": {
          "base_uri": "https://localhost:8080/"
        },
        "outputId": "f70e6ef1-6328-4a14-f337-d80843ffe8c2"
      },
      "outputs": [
        {
          "output_type": "stream",
          "name": "stdout",
          "text": [
            "Digite seu nome (maior que 2 caracteres): k\n",
            "Nome inválido. Digite novamente (maior que 3 caracteres): kim\n",
            "Digite sua idade (entre 1 e 150): 0\n",
            "Idade inválida. Digite novamente (entre 1 e 150): 30\n",
            "Digite seu salário (maior que zero): 0\n",
            "Salário inválido. Digite novamente (maior que zero): 650\n",
            "Digite seu sexo ('f' para feminino, 'm' para masculino): s\n",
            "Sexo inválido. Digite novamente ('f' ou 'm'): f\n",
            "Digite seu estado civil ('s' para solteiro, 'c' para casado, 'v' para viúvo, 'd' para divorciado): a\n",
            "Estado civil inválido. Digite novamente ('s', 'c', 'v' ou 'd'): s\n",
            "Nome: kim\n",
            "Idade: 30\n",
            "Salário: 650.0\n",
            "Sexo: f\n",
            "Estado Civil: s\n"
          ]
        }
      ],
      "source": [
        "# Solicita o nome (deve ter mais de 2 caracteres)\n",
        "nome = input(\"Digite seu nome (maior que 2 caracteres): \")\n",
        "while len(nome) <= 2:\n",
        "    nome = input(\"Nome inválido. Digite novamente (maior que 3 caracteres): \")\n",
        "\n",
        "# Solicita a idade (entre 1 e 150)\n",
        "idade = int(input(\"Digite sua idade (entre 1 e 150): \"))\n",
        "while idade < 1 or idade > 150:\n",
        "    idade = int(input(\"Idade inválida. Digite novamente (entre 1 e 150): \"))\n",
        "\n",
        "# Solicita o salário (maior que zero)\n",
        "salario = float(input(\"Digite seu salário (maior que zero): \"))\n",
        "while salario <= 0:\n",
        "    salario = float(input(\"Salário inválido. Digite novamente (maior que zero): \"))\n",
        "\n",
        "# Solicita o sexo ('f' ou 'm')\n",
        "sexo = input(\"Digite seu sexo ('f' para feminino, 'm' para masculino): \")\n",
        "while sexo != 'f' and sexo != 'm':\n",
        "    sexo = input(\"Sexo inválido. Digite novamente ('f' ou 'm'): \")\n",
        "\n",
        "# Solicita o estado civil ('s', 'c', 'v', 'd')\n",
        "estado_civil = input(\"Digite seu estado civil ('s' para solteiro, 'c' para casado, 'v' para viúvo, 'd' para divorciado): \")\n",
        "while estado_civil != 's' and estado_civil != 'c' and estado_civil != 'v' and estado_civil != 'd':\n",
        "    estado_civil = input(\"Estado civil inválido. Digite novamente ('s', 'c', 'v' ou 'd'): \")\n",
        "\n",
        "# Imprime as informações validadas\n",
        "print(\"Nome:\", nome)\n",
        "print(\"Idade:\", idade)\n",
        "print(\"Salário:\", salario)\n",
        "print(\"Sexo:\", sexo)\n",
        "print(\"Estado Civil:\", estado_civil)\n"
      ]
    },
    {
      "cell_type": "markdown",
      "metadata": {
        "id": "AzFbbo8XmdDW"
      },
      "source": [
        "### Exercício 11\n",
        "Faça um programa que peça um número inteiro e determine se ele é ou não um número primo. Um número primo é aquele que é divisível somente por ele mesmo e por 1.\n",
        "Dica: Utilize o operador aritmético `%`, que retorna o resto da divisão de dois números."
      ]
    },
    {
      "cell_type": "code",
      "execution_count": null,
      "metadata": {
        "id": "rpaR7C8hmdDX",
        "colab": {
          "base_uri": "https://localhost:8080/"
        },
        "outputId": "a9060cee-220b-49d2-e225-ff215fae1554"
      },
      "outputs": [
        {
          "output_type": "stream",
          "name": "stdout",
          "text": [
            "Digite um número inteiro: 15\n",
            "15 não é um número primo.\n"
          ]
        }
      ],
      "source": [
        "# Solicita um número inteiro ao usuário\n",
        "numero = int(input(\"Digite um número inteiro: \"))\n",
        "\n",
        "# Inicializa uma variável para verificar se o número é primo\n",
        "e_primo = True\n",
        "\n",
        "# Verifica se o número é menor ou igual a 1\n",
        "if numero <= 1:\n",
        "    e_primo = False\n",
        "else:\n",
        "    # Loop para verificar se o número é divisível por algum número entre 2 e a raiz quadrada do número\n",
        "    for i in range(2, int(numero**0.5) + 1):\n",
        "        if numero % i == 0:\n",
        "            e_primo = False\n",
        "            break\n",
        "\n",
        "# Imprime o resultado\n",
        "if e_primo:\n",
        "    print(numero, \"é um número primo.\")\n",
        "else:\n",
        "    print(numero, \"não é um número primo.\")\n"
      ]
    },
    {
      "cell_type": "markdown",
      "metadata": {
        "id": "mAWT420jmdDX"
      },
      "source": [
        "### Exercício 12\n",
        "Faça uma calculadora com as 4 operações básicas mais a potenciação onde o usuário pode escolher em um menu a operação desejada informar os valores e receber o resultado. Após isso o software deve perguntar ao usuário se ele deseja fazer outra operação onde 0-Sim e 1-Não. Se escolher não encerra o programa e sim reapresenta o menu principal."
      ]
    },
    {
      "cell_type": "code",
      "execution_count": null,
      "metadata": {
        "id": "-Wxv6zUkmdDX",
        "colab": {
          "base_uri": "https://localhost:8080/"
        },
        "outputId": "d6ecb15d-6905-4be1-a1ee-a3b83619aaa1"
      },
      "outputs": [
        {
          "output_type": "stream",
          "name": "stdout",
          "text": [
            "\n",
            "Menu:\n",
            "1 - Adição\n",
            "2 - Subtração\n",
            "3 - Multiplicação\n",
            "4 - Divisão\n",
            "0 - Sair\n",
            "Escolha a operação desejada: 1\n",
            "Digite o primeiro valor: 4\n",
            "Digite o segundo valor: 5\n",
            "O resultado da adição é: 9.0\n",
            "Deseja fazer outra operação? (0 - Sim, 1 - Não): 0\n",
            "\n",
            "Menu:\n",
            "1 - Adição\n",
            "2 - Subtração\n",
            "3 - Multiplicação\n",
            "4 - Divisão\n",
            "0 - Sair\n",
            "Escolha a operação desejada: 2\n",
            "Digite o primeiro valor: 2\n",
            "Digite o segundo valor: 2\n",
            "O resultado da subtração é: 0.0\n",
            "Deseja fazer outra operação? (0 - Sim, 1 - Não): 0\n",
            "\n",
            "Menu:\n",
            "1 - Adição\n",
            "2 - Subtração\n",
            "3 - Multiplicação\n",
            "4 - Divisão\n",
            "0 - Sair\n",
            "Escolha a operação desejada: 3\n",
            "Digite o primeiro valor: 2\n",
            "Digite o segundo valor: 2\n",
            "O resultado da multiplicação é: 4.0\n",
            "Deseja fazer outra operação? (0 - Sim, 1 - Não): 0\n",
            "\n",
            "Menu:\n",
            "1 - Adição\n",
            "2 - Subtração\n",
            "3 - Multiplicação\n",
            "4 - Divisão\n",
            "0 - Sair\n",
            "Escolha a operação desejada: 4\n",
            "Digite o primeiro valor: 2\n",
            "Digite o segundo valor: 2\n",
            "O resultado da divisão é: 1.0\n",
            "Deseja fazer outra operação? (0 - Sim, 1 - Não): 1\n",
            "Encerrando o programa.\n"
          ]
        }
      ],
      "source": [
        "# Funções para as operações\n",
        "def soma(a, b):\n",
        "    return a + b\n",
        "\n",
        "def subtracao(a, b):\n",
        "    return a - b\n",
        "\n",
        "def multiplicacao(a, b):\n",
        "    return a * b\n",
        "\n",
        "def divisao(a, b):\n",
        "    if b == 0:\n",
        "        return \"Erro: Divisão por zero\"\n",
        "    return a / b\n",
        "\n",
        "while True:\n",
        "    # Menu das operações\n",
        "    print(\"\\nMenu:\")\n",
        "    print(\"1 - Adição\")\n",
        "    print(\"2 - Subtração\")\n",
        "    print(\"3 - Multiplicação\")\n",
        "    print(\"4 - Divisão\")\n",
        "    print(\"0 - Sair\")\n",
        "\n",
        "    # Solicita a escolha do usuário\n",
        "    escolha = input(\"Escolha a operação desejada: \")\n",
        "\n",
        "    if escolha == '0':\n",
        "        print(\"Encerrando o programa.\")\n",
        "        break\n",
        "    elif escolha in ('1', '2', '3', '4'):\n",
        "        # Solicita os valores para as operações\n",
        "        valor1 = float(input(\"Digite o primeiro valor: \"))\n",
        "        valor2 = float(input(\"Digite o segundo valor: \"))\n",
        "\n",
        "        if escolha == '1':\n",
        "            resultado = soma(valor1, valor2)\n",
        "            operacao = \"adição\"\n",
        "        elif escolha == '2':\n",
        "            resultado = subtracao(valor1, valor2)\n",
        "            operacao = \"subtração\"\n",
        "        elif escolha == '3':\n",
        "            resultado = multiplicacao(valor1, valor2)\n",
        "            operacao = \"multiplicação\"\n",
        "        else:\n",
        "            resultado = divisao(valor1, valor2)\n",
        "            operacao = \"divisão\"\n",
        "\n",
        "        print(f\"O resultado da {operacao} é: {resultado}\")\n",
        "\n",
        "        continuar = input(\"Deseja fazer outra operação? (0 - Sim, 1 - Não): \")\n",
        "        if continuar == '1':\n",
        "            print(\"Encerrando o programa.\")\n",
        "            break\n",
        "    else:\n",
        "        print(\"Opção inválida. Tente novamente.\")\n"
      ]
    },
    {
      "cell_type": "markdown",
      "metadata": {
        "id": "36CWbWvCmdDX"
      },
      "source": [
        "## Exercício 13 - Desafio\n",
        "\n",
        "Fazer um programa para controlar uma lista de chamada de alunos, onde o programa começa com uma lista de alunos que são considerados inicialmente como presentes na aula e o usuário do software pode escolher o aluno através de seu código para inserí-lo na lista de alunos faltosos e concumitantemente retirá-lo da lista de alunos presentes.\n",
        "\n",
        "Também deve ser possível remover o aluno da lista de faltosos e retorná-lo a lista de alunos presentes.\n"
      ]
    },
    {
      "cell_type": "code",
      "execution_count": null,
      "metadata": {
        "id": "Vif9lYRemdDX",
        "colab": {
          "base_uri": "https://localhost:8080/"
        },
        "outputId": "ab97102f-2bb0-44b9-8842-f766a1b5140b"
      },
      "outputs": [
        {
          "output_type": "stream",
          "name": "stdout",
          "text": [
            "\n",
            "Menu:\n",
            "1 - Marcar aluno como presente\n",
            "2 - Marcar aluno como faltoso\n",
            "3 - Retornar aluno da lista de faltosos\n",
            "4 - Encerrar o programa\n",
            "Escolha uma opção: 2\n",
            "Lista de Alunos Presentes:\n",
            "1: Aluno 1\n",
            "2: Aluno 2\n",
            "3: Aluno 3\n",
            "4: Aluno 4\n",
            "5: Aluno 5\n",
            "\n",
            "Lista de Alunos Faltosos:\n",
            "Digite o código do aluno faltoso: 1\n",
            "Aluno marcado como faltoso.\n",
            "\n",
            "Menu:\n",
            "1 - Marcar aluno como presente\n",
            "2 - Marcar aluno como faltoso\n",
            "3 - Retornar aluno da lista de faltosos\n",
            "4 - Encerrar o programa\n",
            "Escolha uma opção: 1\n",
            "Lista de Alunos Presentes:\n",
            "2: Aluno 2\n",
            "3: Aluno 3\n",
            "4: Aluno 4\n",
            "5: Aluno 5\n",
            "\n",
            "Lista de Alunos Faltosos:\n",
            "1: Aluno 1\n",
            "Digite o código do aluno presente: 1\n",
            "Aluno marcado como presente.\n",
            "\n",
            "Menu:\n",
            "1 - Marcar aluno como presente\n",
            "2 - Marcar aluno como faltoso\n",
            "3 - Retornar aluno da lista de faltosos\n",
            "4 - Encerrar o programa\n",
            "Escolha uma opção: 3\n",
            "Lista de Alunos Presentes:\n",
            "2: Aluno 2\n",
            "3: Aluno 3\n",
            "4: Aluno 4\n",
            "5: Aluno 5\n",
            "1: Aluno 1\n",
            "\n",
            "Lista de Alunos Faltosos:\n",
            "Digite o código do aluno para retornar da lista de faltosos: 1\n",
            "Código de aluno inválido.\n",
            "\n",
            "Menu:\n",
            "1 - Marcar aluno como presente\n",
            "2 - Marcar aluno como faltoso\n",
            "3 - Retornar aluno da lista de faltosos\n",
            "4 - Encerrar o programa\n",
            "Escolha uma opção: 1\n",
            "Lista de Alunos Presentes:\n",
            "2: Aluno 2\n",
            "3: Aluno 3\n",
            "4: Aluno 4\n",
            "5: Aluno 5\n",
            "1: Aluno 1\n",
            "\n",
            "Lista de Alunos Faltosos:\n",
            "Digite o código do aluno presente: 1\n",
            "O aluno já está na lista de presentes.\n",
            "\n",
            "Menu:\n",
            "1 - Marcar aluno como presente\n",
            "2 - Marcar aluno como faltoso\n",
            "3 - Retornar aluno da lista de faltosos\n",
            "4 - Encerrar o programa\n",
            "Escolha uma opção: 2\n",
            "Lista de Alunos Presentes:\n",
            "2: Aluno 2\n",
            "3: Aluno 3\n",
            "4: Aluno 4\n",
            "5: Aluno 5\n",
            "1: Aluno 1\n",
            "\n",
            "Lista de Alunos Faltosos:\n",
            "Digite o código do aluno faltoso: 1\n",
            "Aluno marcado como faltoso.\n",
            "\n",
            "Menu:\n",
            "1 - Marcar aluno como presente\n",
            "2 - Marcar aluno como faltoso\n",
            "3 - Retornar aluno da lista de faltosos\n",
            "4 - Encerrar o programa\n",
            "Escolha uma opção: 1\n",
            "Lista de Alunos Presentes:\n",
            "2: Aluno 2\n",
            "3: Aluno 3\n",
            "4: Aluno 4\n",
            "5: Aluno 5\n",
            "\n",
            "Lista de Alunos Faltosos:\n",
            "1: Aluno 1\n",
            "Digite o código do aluno presente: 1\n",
            "Aluno marcado como presente.\n",
            "\n",
            "Menu:\n",
            "1 - Marcar aluno como presente\n",
            "2 - Marcar aluno como faltoso\n",
            "3 - Retornar aluno da lista de faltosos\n",
            "4 - Encerrar o programa\n",
            "Escolha uma opção: 4\n",
            "Encerrando o programa.\n"
          ]
        }
      ],
      "source": [
        "# Inicializa a lista de alunos presentes\n",
        "alunos_presentes = {\n",
        "    1: \"Aluno 1\",\n",
        "    2: \"Aluno 2\",\n",
        "    3: \"Aluno 3\",\n",
        "    4: \"Aluno 4\",\n",
        "    5: \"Aluno 5\"\n",
        "}\n",
        "\n",
        "# Inicializa a lista de alunos faltosos como vazia\n",
        "alunos_faltosos = {}\n",
        "\n",
        "# Função para mostrar as listas de chamada\n",
        "def mostrar_listas():\n",
        "    print(\"Lista de Alunos Presentes:\")\n",
        "    for codigo, nome in alunos_presentes.items():\n",
        "        print(f\"{codigo}: {nome}\")\n",
        "\n",
        "    print(\"\\nLista de Alunos Faltosos:\")\n",
        "    for codigo, nome in alunos_faltosos.items():\n",
        "        print(f\"{codigo}: {nome}\")\n",
        "\n",
        "# Loop principal\n",
        "while True:\n",
        "    print(\"\\nMenu:\")\n",
        "    print(\"1 - Marcar aluno como presente\")\n",
        "    print(\"2 - Marcar aluno como faltoso\")\n",
        "    print(\"3 - Retornar aluno da lista de faltosos\")\n",
        "    print(\"4 - Encerrar o programa\")\n",
        "\n",
        "    escolha = input(\"Escolha uma opção: \")\n",
        "\n",
        "    if escolha == '1':\n",
        "        mostrar_listas()\n",
        "        codigo = int(input(\"Digite o código do aluno presente: \"))\n",
        "        if codigo in alunos_presentes:\n",
        "            print(\"O aluno já está na lista de presentes.\")\n",
        "        elif codigo in alunos_faltosos:\n",
        "            alunos_presentes[codigo] = alunos_faltosos[codigo]\n",
        "            del alunos_faltosos[codigo]\n",
        "            print(\"Aluno marcado como presente.\")\n",
        "        else:\n",
        "            print(\"Código de aluno inválido.\")\n",
        "\n",
        "    elif escolha == '2':\n",
        "        mostrar_listas()\n",
        "        codigo = int(input(\"Digite o código do aluno faltoso: \"))\n",
        "        if codigo in alunos_faltosos:\n",
        "            print(\"O aluno já está na lista de faltosos.\")\n",
        "        elif codigo in alunos_presentes:\n",
        "            alunos_faltosos[codigo] = alunos_presentes[codigo]\n",
        "            del alunos_presentes[codigo]\n",
        "            print(\"Aluno marcado como faltoso.\")\n",
        "        else:\n",
        "            print(\"Código de aluno inválido.\")\n",
        "\n",
        "    elif escolha == '3':\n",
        "        mostrar_listas()\n",
        "        codigo = int(input(\"Digite o código do aluno para retornar da lista de faltosos: \"))\n",
        "        if codigo in alunos_faltosos:\n",
        "            alunos_presentes[codigo] = alunos_faltosos[codigo]\n",
        "            del alunos_faltosos[codigo]\n",
        "            print(\"Aluno retornado à lista de presentes.\")\n",
        "        else:\n",
        "            print(\"Código de aluno inválido.\")\n",
        "\n",
        "    elif escolha == '4':\n",
        "        print(\"Encerrando o programa.\")\n",
        "        break\n",
        "\n",
        "    else:\n",
        "        print(\"Opção inválida. Tente novamente.\")\n"
      ]
    },
    {
      "cell_type": "markdown",
      "source": [
        "# Exercicio 14 - Desafio 2\n",
        "\n",
        "Fazer um programa de jogo da velha onde um jogador seja humano e o outro seja o computador que jogará através de jogadas aleatórias (random) e o jogador humano deverá escolher a posição que quer jogar no tabuleiro.\n",
        "A cada jogada deve-se verificar se a posição do tabuleiro já está ocupada por outra jogada, também deve-se verificar se o jogador humano ganhou ou se o jogador PC ganhou ou ainda se houve empate."
      ],
      "metadata": {
        "id": "4tNBzUJ9mlBo"
      }
    },
    {
      "cell_type": "code",
      "source": [
        "import random\n",
        "\n",
        "# Função para imprimir o tabuleiro\n",
        "def imprimir_tabuleiro(tabuleiro):\n",
        "    for linha in tabuleiro:\n",
        "        print(\" | \".join(linha))\n",
        "        print(\"-\" * 9)\n",
        "\n",
        "# Função para verificar se alguém venceu\n",
        "def verificar_vencedor(tabuleiro, jogador):\n",
        "    # Verifica linhas e colunas\n",
        "    for i in range(3):\n",
        "        if tabuleiro[i][0] == tabuleiro[i][1] == tabuleiro[i][2] == jogador:\n",
        "            return True\n",
        "        if tabuleiro[0][i] == tabuleiro[1][i] == tabuleiro[2][i] == jogador:\n",
        "            return True\n",
        "\n",
        "    # Verifica diagonais\n",
        "    if tabuleiro[0][0] == tabuleiro[1][1] == tabuleiro[2][2] == jogador:\n",
        "        return True\n",
        "    if tabuleiro[0][2] == tabuleiro[1][1] == tabuleiro[2][0] == jogador:\n",
        "        return True\n",
        "\n",
        "    return False\n",
        "\n",
        "# Função para verificar se o tabuleiro está cheio (empate)\n",
        "def verificar_empate(tabuleiro):\n",
        "    for linha in tabuleiro:\n",
        "        for celula in linha:\n",
        "            if celula == \" \":\n",
        "                return False\n",
        "    return True\n",
        "\n",
        "# Função para a jogada do computador (aleatória)\n",
        "def jogada_computador(tabuleiro):\n",
        "    while True:\n",
        "        linha = random.randint(0, 2)\n",
        "        coluna = random.randint(0, 2)\n",
        "        if tabuleiro[linha][coluna] == \" \":\n",
        "            return linha, coluna\n",
        "\n",
        "# Inicializa o tabuleiro\n",
        "tabuleiro = [[\" \" for _ in range(3)] for _ in range(3)]\n",
        "\n",
        "# Loop do jogo\n",
        "jogador_atual = \"X\"\n",
        "while True:\n",
        "    imprimir_tabuleiro(tabuleiro)\n",
        "\n",
        "    if jogador_atual == \"X\":\n",
        "        print(\"Sua vez (jogador humano)!\")\n",
        "        linha = int(input(\"Digite a linha (0, 1 ou 2): \"))\n",
        "        coluna = int(input(\"Digite a coluna (0, 1 ou 2): \"))\n",
        "    else:\n",
        "        print(\"Vez do computador (jogador PC)!\")\n",
        "        linha, coluna = jogada_computador(tabuleiro)\n",
        "\n",
        "    if tabuleiro[linha][coluna] == \" \":\n",
        "        tabuleiro[linha][coluna] = jogador_atual\n",
        "    else:\n",
        "        print(\"Essa posição já está ocupada. Tente novamente.\")\n",
        "        continue\n",
        "\n",
        "    if verificar_vencedor(tabuleiro, jogador_atual):\n",
        "        imprimir_tabuleiro(tabuleiro)\n",
        "        print(f\"O jogador {jogador_atual} venceu!\")\n",
        "        break\n",
        "\n",
        "    if verificar_empate(tabuleiro):\n",
        "        imprimir_tabuleiro(tabuleiro)\n",
        "        print(\"Empate!\")\n",
        "        break\n",
        "\n",
        "    jogador_atual = \"O\" if jogador_atual == \"X\" else \"X\"\n"
      ],
      "metadata": {
        "id": "L10jWoTinc6K",
        "colab": {
          "base_uri": "https://localhost:8080/"
        },
        "outputId": "4b224a17-581a-4d55-b38d-7f506d4820c0"
      },
      "execution_count": null,
      "outputs": [
        {
          "output_type": "stream",
          "name": "stdout",
          "text": [
            "  |   |  \n",
            "---------\n",
            "  |   |  \n",
            "---------\n",
            "  |   |  \n",
            "---------\n",
            "Sua vez (jogador humano)!\n",
            "Digite a linha (0, 1 ou 2): 1\n",
            "Digite a coluna (0, 1 ou 2): 1\n",
            "  |   |  \n",
            "---------\n",
            "  | X |  \n",
            "---------\n",
            "  |   |  \n",
            "---------\n",
            "Vez do computador (jogador PC)!\n",
            "  |   |  \n",
            "---------\n",
            "  | X |  \n",
            "---------\n",
            "  |   | O\n",
            "---------\n",
            "Sua vez (jogador humano)!\n",
            "Digite a linha (0, 1 ou 2): 2\n",
            "Digite a coluna (0, 1 ou 2): 0\n",
            "  |   |  \n",
            "---------\n",
            "  | X |  \n",
            "---------\n",
            "X |   | O\n",
            "---------\n",
            "Vez do computador (jogador PC)!\n",
            "  |   |  \n",
            "---------\n",
            "  | X |  \n",
            "---------\n",
            "X | O | O\n",
            "---------\n",
            "Sua vez (jogador humano)!\n",
            "Digite a linha (0, 1 ou 2): 0\n",
            "Digite a coluna (0, 1 ou 2): 2\n",
            "  |   | X\n",
            "---------\n",
            "  | X |  \n",
            "---------\n",
            "X | O | O\n",
            "---------\n",
            "O jogador X venceu!\n"
          ]
        }
      ]
    }
  ],
  "metadata": {
    "language_info": {
      "name": "python"
    },
    "orig_nbformat": 4,
    "colab": {
      "provenance": [],
      "include_colab_link": true
    },
    "kernelspec": {
      "name": "python3",
      "display_name": "Python 3"
    }
  },
  "nbformat": 4,
  "nbformat_minor": 0
}